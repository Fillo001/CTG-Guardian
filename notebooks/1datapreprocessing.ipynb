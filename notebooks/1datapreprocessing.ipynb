import pandas as pd
from sklearn.model_selection import train_test_split
from sklearn.preprocessing import StandardScaler

df = pd.read_csv('../data/fetal_health.csv')
X = df.drop('fetal_health', axis=1)
y = df['fetal_health']

scaler = StandardScaler()
X_scaled = scaler.fit_transform(X)

X_train, X_test, y_train, y_test = train_test_split(X_scaled, y, test_size=0.2, random_state=42)
