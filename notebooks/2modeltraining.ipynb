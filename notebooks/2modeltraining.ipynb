from sklearn.ensemble import RandomForestClassifier
import joblib

model = RandomForestClassifier(n_estimators=100, random_state=42)
model.fit(X_train, y_train)

joblib.dump(model, '../app/model/ctg_model.pkl')
